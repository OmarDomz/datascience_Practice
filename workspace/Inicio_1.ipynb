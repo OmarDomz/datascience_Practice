{
 "cells": [
  {
   "cell_type": "code",
   "execution_count": 27,
   "outputs": [],
   "source": [
    "import pandas as pd\n",
    "import numpy as np\n",
    "import matplotlib.pyplot as plt\n",
    "import seaborn as sns"
   ],
   "metadata": {
    "collapsed": false
   }
  },
  {
   "cell_type": "code",
   "execution_count": null,
   "outputs": [],
   "source": [
    "pd._version = pd.__version__"
   ],
   "metadata": {
    "collapsed": false,
    "pycharm": {
     "is_executing": true
    }
   }
  },
  {
   "cell_type": "code",
   "execution_count": 29,
   "outputs": [],
   "source": [
    "pd.options.display.min_rows =20"
   ],
   "metadata": {
    "collapsed": false
   }
  },
  {
   "cell_type": "code",
   "execution_count": 42,
   "outputs": [
    {
     "name": "stderr",
     "output_type": "stream",
     "text": [
      "C:\\Users\\Omar\\AppData\\Local\\Temp\\ipykernel_7920\\3797951473.py:3: DtypeWarning: Columns (68,70,71,72,73,74,76,79) have mixed types. Specify dtype option on import or set low_memory=False.\n",
      "  autos = pd.read_csv(\"https://github.com/mattharrison/datasets/raw/master/data/vehicles.csv.zip\", compression=\"zip\")\n"
     ]
    }
   ],
   "source": [
    "import pandas as pd\n",
    "\n",
    "autos = pd.read_csv(\"https://github.com/mattharrison/datasets/raw/master/data/vehicles.csv.zip\", compression=\"zip\")"
   ],
   "metadata": {
    "collapsed": false
   }
  },
  {
   "cell_type": "code",
   "execution_count": 43,
   "outputs": [
    {
     "data": {
      "text/plain": "       barrels08  barrelsA08  charge120  charge240  city08  city08U  cityA08  \\\n0      15.695714         0.0        0.0        0.0      19      0.0        0   \n1      29.964545         0.0        0.0        0.0       9      0.0        0   \n...          ...         ...        ...        ...     ...      ...      ...   \n41142  15.695714         0.0        0.0        0.0      18      0.0        0   \n41143  18.311667         0.0        0.0        0.0      16      0.0        0   \n\n       cityA08U  cityCD  cityE  ...  mfrCode  c240Dscr  charge240b  c240bDscr  \\\n0           0.0     0.0    0.0  ...      NaN       NaN         0.0        NaN   \n1           0.0     0.0    0.0  ...      NaN       NaN         0.0        NaN   \n...         ...     ...    ...  ...      ...       ...         ...        ...   \n41142       0.0     0.0    0.0  ...      NaN       NaN         0.0        NaN   \n41143       0.0     0.0    0.0  ...      NaN       NaN         0.0        NaN   \n\n                          createdOn                    modifiedOn  startStop  \\\n0      Tue Jan 01 00:00:00 EST 2013  Tue Jan 01 00:00:00 EST 2013        NaN   \n1      Tue Jan 01 00:00:00 EST 2013  Tue Jan 01 00:00:00 EST 2013        NaN   \n...                             ...                           ...        ...   \n41142  Tue Jan 01 00:00:00 EST 2013  Tue Jan 01 00:00:00 EST 2013        NaN   \n41143  Tue Jan 01 00:00:00 EST 2013  Tue Jan 01 00:00:00 EST 2013        NaN   \n\n       phevCity  phevHwy  phevComb  \n0             0        0         0  \n1             0        0         0  \n...         ...      ...       ...  \n41142         0        0         0  \n41143         0        0         0  \n\n[41144 rows x 83 columns]",
      "text/html": "<div>\n<style scoped>\n    .dataframe tbody tr th:only-of-type {\n        vertical-align: middle;\n    }\n\n    .dataframe tbody tr th {\n        vertical-align: top;\n    }\n\n    .dataframe thead th {\n        text-align: right;\n    }\n</style>\n<table border=\"1\" class=\"dataframe\">\n  <thead>\n    <tr style=\"text-align: right;\">\n      <th></th>\n      <th>barrels08</th>\n      <th>barrelsA08</th>\n      <th>charge120</th>\n      <th>charge240</th>\n      <th>city08</th>\n      <th>city08U</th>\n      <th>cityA08</th>\n      <th>cityA08U</th>\n      <th>cityCD</th>\n      <th>cityE</th>\n      <th>...</th>\n      <th>mfrCode</th>\n      <th>c240Dscr</th>\n      <th>charge240b</th>\n      <th>c240bDscr</th>\n      <th>createdOn</th>\n      <th>modifiedOn</th>\n      <th>startStop</th>\n      <th>phevCity</th>\n      <th>phevHwy</th>\n      <th>phevComb</th>\n    </tr>\n  </thead>\n  <tbody>\n    <tr>\n      <th>0</th>\n      <td>15.695714</td>\n      <td>0.0</td>\n      <td>0.0</td>\n      <td>0.0</td>\n      <td>19</td>\n      <td>0.0</td>\n      <td>0</td>\n      <td>0.0</td>\n      <td>0.0</td>\n      <td>0.0</td>\n      <td>...</td>\n      <td>NaN</td>\n      <td>NaN</td>\n      <td>0.0</td>\n      <td>NaN</td>\n      <td>Tue Jan 01 00:00:00 EST 2013</td>\n      <td>Tue Jan 01 00:00:00 EST 2013</td>\n      <td>NaN</td>\n      <td>0</td>\n      <td>0</td>\n      <td>0</td>\n    </tr>\n    <tr>\n      <th>1</th>\n      <td>29.964545</td>\n      <td>0.0</td>\n      <td>0.0</td>\n      <td>0.0</td>\n      <td>9</td>\n      <td>0.0</td>\n      <td>0</td>\n      <td>0.0</td>\n      <td>0.0</td>\n      <td>0.0</td>\n      <td>...</td>\n      <td>NaN</td>\n      <td>NaN</td>\n      <td>0.0</td>\n      <td>NaN</td>\n      <td>Tue Jan 01 00:00:00 EST 2013</td>\n      <td>Tue Jan 01 00:00:00 EST 2013</td>\n      <td>NaN</td>\n      <td>0</td>\n      <td>0</td>\n      <td>0</td>\n    </tr>\n    <tr>\n      <th>...</th>\n      <td>...</td>\n      <td>...</td>\n      <td>...</td>\n      <td>...</td>\n      <td>...</td>\n      <td>...</td>\n      <td>...</td>\n      <td>...</td>\n      <td>...</td>\n      <td>...</td>\n      <td>...</td>\n      <td>...</td>\n      <td>...</td>\n      <td>...</td>\n      <td>...</td>\n      <td>...</td>\n      <td>...</td>\n      <td>...</td>\n      <td>...</td>\n      <td>...</td>\n      <td>...</td>\n    </tr>\n    <tr>\n      <th>41142</th>\n      <td>15.695714</td>\n      <td>0.0</td>\n      <td>0.0</td>\n      <td>0.0</td>\n      <td>18</td>\n      <td>0.0</td>\n      <td>0</td>\n      <td>0.0</td>\n      <td>0.0</td>\n      <td>0.0</td>\n      <td>...</td>\n      <td>NaN</td>\n      <td>NaN</td>\n      <td>0.0</td>\n      <td>NaN</td>\n      <td>Tue Jan 01 00:00:00 EST 2013</td>\n      <td>Tue Jan 01 00:00:00 EST 2013</td>\n      <td>NaN</td>\n      <td>0</td>\n      <td>0</td>\n      <td>0</td>\n    </tr>\n    <tr>\n      <th>41143</th>\n      <td>18.311667</td>\n      <td>0.0</td>\n      <td>0.0</td>\n      <td>0.0</td>\n      <td>16</td>\n      <td>0.0</td>\n      <td>0</td>\n      <td>0.0</td>\n      <td>0.0</td>\n      <td>0.0</td>\n      <td>...</td>\n      <td>NaN</td>\n      <td>NaN</td>\n      <td>0.0</td>\n      <td>NaN</td>\n      <td>Tue Jan 01 00:00:00 EST 2013</td>\n      <td>Tue Jan 01 00:00:00 EST 2013</td>\n      <td>NaN</td>\n      <td>0</td>\n      <td>0</td>\n      <td>0</td>\n    </tr>\n  </tbody>\n</table>\n<p>41144 rows × 83 columns</p>\n</div>"
     },
     "execution_count": 43,
     "metadata": {},
     "output_type": "execute_result"
    }
   ],
   "source": [
    "autos\n"
   ],
   "metadata": {
    "collapsed": false
   }
  },
  {
   "cell_type": "code",
   "execution_count": 44,
   "outputs": [
    {
     "data": {
      "text/plain": "Index(['barrels08', 'barrelsA08', 'charge120', 'charge240', 'city08',\n       'city08U', 'cityA08', 'cityA08U', 'cityCD', 'cityE', 'cityUF', 'co2',\n       'co2A', 'co2TailpipeAGpm', 'co2TailpipeGpm', 'comb08', 'comb08U',\n       'combA08', 'combA08U', 'combE', 'combinedCD', 'combinedUF', 'cylinders',\n       'displ', 'drive', 'engId', 'eng_dscr', 'feScore', 'fuelCost08',\n       'fuelCostA08', 'fuelType', 'fuelType1', 'ghgScore', 'ghgScoreA',\n       'highway08', 'highway08U', 'highwayA08', 'highwayA08U', 'highwayCD',\n       'highwayE', 'highwayUF', 'hlv', 'hpv', 'id', 'lv2', 'lv4', 'make',\n       'model', 'mpgData', 'phevBlended', 'pv2', 'pv4', 'range', 'rangeCity',\n       'rangeCityA', 'rangeHwy', 'rangeHwyA', 'trany', 'UCity', 'UCityA',\n       'UHighway', 'UHighwayA', 'VClass', 'year', 'youSaveSpend', 'guzzler',\n       'trans_dscr', 'tCharger', 'sCharger', 'atvType', 'fuelType2', 'rangeA',\n       'evMotor', 'mfrCode', 'c240Dscr', 'charge240b', 'c240bDscr',\n       'createdOn', 'modifiedOn', 'startStop', 'phevCity', 'phevHwy',\n       'phevComb'],\n      dtype='object')"
     },
     "execution_count": 44,
     "metadata": {},
     "output_type": "execute_result"
    }
   ],
   "source": [
    "autos.columns"
   ],
   "metadata": {
    "collapsed": false
   }
  },
  {
   "cell_type": "code",
   "execution_count": 46,
   "outputs": [],
   "source": [
    "cols = autos.columns"
   ],
   "metadata": {
    "collapsed": false
   }
  },
  {
   "cell_type": "code",
   "execution_count": 47,
   "outputs": [
    {
     "data": {
      "text/plain": "Index(['barrels08', 'barrelsA08', 'charge120', 'charge240', 'city08',\n       'city08U', 'cityA08', 'cityA08U', 'cityCD', 'cityE', 'cityUF', 'co2',\n       'co2A', 'co2TailpipeAGpm', 'co2TailpipeGpm', 'comb08', 'comb08U',\n       'combA08', 'combA08U', 'combE', 'combinedCD', 'combinedUF', 'cylinders',\n       'displ', 'drive', 'engId', 'eng_dscr', 'feScore', 'fuelCost08',\n       'fuelCostA08', 'fuelType', 'fuelType1', 'ghgScore', 'ghgScoreA',\n       'highway08', 'highway08U', 'highwayA08', 'highwayA08U', 'highwayCD',\n       'highwayE', 'highwayUF', 'hlv', 'hpv', 'id', 'lv2', 'lv4', 'make',\n       'model', 'mpgData', 'phevBlended', 'pv2', 'pv4', 'range', 'rangeCity',\n       'rangeCityA', 'rangeHwy', 'rangeHwyA', 'trany', 'UCity', 'UCityA',\n       'UHighway', 'UHighwayA', 'VClass', 'year', 'youSaveSpend', 'guzzler',\n       'trans_dscr', 'tCharger', 'sCharger', 'atvType', 'fuelType2', 'rangeA',\n       'evMotor', 'mfrCode', 'c240Dscr', 'charge240b', 'c240bDscr',\n       'createdOn', 'modifiedOn', 'startStop', 'phevCity', 'phevHwy',\n       'phevComb'],\n      dtype='object')"
     },
     "execution_count": 47,
     "metadata": {},
     "output_type": "execute_result"
    }
   ],
   "source": [
    "cols"
   ],
   "metadata": {
    "collapsed": false
   }
  },
  {
   "cell_type": "code",
   "execution_count": 48,
   "outputs": [
    {
     "data": {
      "text/plain": "barrels08     float64\nbarrelsA08    float64\n               ...   \nphevHwy         int64\nphevComb        int64\nLength: 83, dtype: object"
     },
     "execution_count": 48,
     "metadata": {},
     "output_type": "execute_result"
    }
   ],
   "source": [
    "autos[cols].dtypes"
   ],
   "metadata": {
    "collapsed": false
   }
  },
  {
   "cell_type": "code",
   "execution_count": 49,
   "outputs": [
    {
     "data": {
      "text/plain": "Index           128\nbarrels08    329152\n              ...  \nphevHwy      329152\nphevComb     329152\nLength: 84, dtype: int64"
     },
     "execution_count": 49,
     "metadata": {},
     "output_type": "execute_result"
    }
   ],
   "source": [
    "autos[cols].memory_usage(deep=True)"
   ],
   "metadata": {
    "collapsed": false
   }
  },
  {
   "cell_type": "code",
   "execution_count": 50,
   "outputs": [
    {
     "data": {
      "text/plain": "68383393"
     },
     "execution_count": 50,
     "metadata": {},
     "output_type": "execute_result"
    }
   ],
   "source": [
    "autos[cols].memory_usage(deep=True).sum()"
   ],
   "metadata": {
    "collapsed": false
   }
  },
  {
   "cell_type": "code",
   "execution_count": 51,
   "outputs": [
    {
     "data": {
      "text/plain": "<bound method NDFrame.describe of        city08  cityA08  co2  co2A  comb08  combA08  engId  feScore  \\\n0          19        0   -1    -1      21        0   9011       -1   \n1           9        0   -1    -1      11        0  22020       -1   \n...       ...      ...  ...   ...     ...      ...    ...      ...   \n41142      18        0   -1    -1      21        0  66030       -1   \n41143      16        0   -1    -1      18        0  66031       -1   \n\n       fuelCost08  fuelCostA08  ...  lv2  lv4  pv2  pv4  range  year  \\\n0            2000            0  ...    0    0    0    0      0  1985   \n1            3850            0  ...    0    0    0    0      0  1985   \n...           ...          ...  ...  ...  ...  ...  ...    ...   ...   \n41142        2000            0  ...    0   14    0   90      0  1993   \n41143        2900            0  ...    0   14    0   90      0  1993   \n\n       youSaveSpend  phevCity  phevHwy  phevComb  \n0             -2250         0        0         0  \n1            -11500         0        0         0  \n...             ...       ...      ...       ...  \n41142         -2250         0        0         0  \n41143         -6750         0        0         0  \n\n[41144 rows x 27 columns]>"
     },
     "execution_count": 51,
     "metadata": {},
     "output_type": "execute_result"
    }
   ],
   "source": [
    "autos[cols].select_dtypes(int).describe"
   ],
   "metadata": {
    "collapsed": false
   }
  },
  {
   "cell_type": "code",
   "execution_count": 54,
   "outputs": [],
   "source": [
    "cols = ['city08', 'comb08', 'highway08', 'cylinders', 'displ', 'drive', 'eng_dscr', 'fuelCost08', 'make', 'model','trany', 'range', 'createdOn','year']"
   ],
   "metadata": {
    "collapsed": false
   }
  },
  {
   "cell_type": "code",
   "execution_count": 55,
   "outputs": [
    {
     "data": {
      "text/plain": "city08          int64\ncomb08          int64\nhighway08       int64\ncylinders     float64\ndispl         float64\ndrive          object\neng_dscr       object\nfuelCost08      int64\nmake           object\nmodel          object\ntrany          object\nrange           int64\ncreatedOn      object\nyear            int64\ndtype: object"
     },
     "execution_count": 55,
     "metadata": {},
     "output_type": "execute_result"
    }
   ],
   "source": [
    "autos[cols].dtypes\n"
   ],
   "metadata": {
    "collapsed": false
   }
  },
  {
   "cell_type": "code",
   "execution_count": 56,
   "outputs": [
    {
     "data": {
      "text/plain": "Index             128\ncity08         329152\ncomb08         329152\nhighway08      329152\ncylinders      329152\ndispl          329152\ndrive         3028369\neng_dscr      2135693\nfuelCost08     329152\nmake          2606267\nmodel         2813134\ntrany         2933276\nrange          329152\ncreatedOn     3497240\nyear           329152\ndtype: int64"
     },
     "execution_count": 56,
     "metadata": {},
     "output_type": "execute_result"
    }
   ],
   "source": [
    "autos[cols].memory_usage(deep=True)"
   ],
   "metadata": {
    "collapsed": false
   }
  },
  {
   "cell_type": "code",
   "execution_count": 57,
   "outputs": [
    {
     "data": {
      "text/plain": "19647323"
     },
     "execution_count": 57,
     "metadata": {},
     "output_type": "execute_result"
    }
   ],
   "source": [
    "autos[cols].memory_usage(deep=True).sum()"
   ],
   "metadata": {
    "collapsed": false
   }
  },
  {
   "cell_type": "code",
   "execution_count": 58,
   "outputs": [
    {
     "data": {
      "text/plain": "             city08        comb08     highway08    fuelCost08         range  \\\ncount  41144.000000  41144.000000  41144.000000  41144.000000  41144.000000   \nmean      18.369045     20.616396     24.504667   2362.335942      0.793506   \nstd        7.905886      7.674535      7.730364    654.981925     13.041592   \nmin        6.000000      7.000000      9.000000    500.000000      0.000000   \n25%       15.000000     17.000000     20.000000   1900.000000      0.000000   \n50%       17.000000     20.000000     24.000000   2350.000000      0.000000   \n75%       20.000000     23.000000     28.000000   2700.000000      0.000000   \nmax      150.000000    136.000000    124.000000   7400.000000    370.000000   \n\n               year  \ncount  41144.000000  \nmean    2001.535266  \nstd       11.142414  \nmin     1984.000000  \n25%     1991.000000  \n50%     2002.000000  \n75%     2011.000000  \nmax     2020.000000  ",
      "text/html": "<div>\n<style scoped>\n    .dataframe tbody tr th:only-of-type {\n        vertical-align: middle;\n    }\n\n    .dataframe tbody tr th {\n        vertical-align: top;\n    }\n\n    .dataframe thead th {\n        text-align: right;\n    }\n</style>\n<table border=\"1\" class=\"dataframe\">\n  <thead>\n    <tr style=\"text-align: right;\">\n      <th></th>\n      <th>city08</th>\n      <th>comb08</th>\n      <th>highway08</th>\n      <th>fuelCost08</th>\n      <th>range</th>\n      <th>year</th>\n    </tr>\n  </thead>\n  <tbody>\n    <tr>\n      <th>count</th>\n      <td>41144.000000</td>\n      <td>41144.000000</td>\n      <td>41144.000000</td>\n      <td>41144.000000</td>\n      <td>41144.000000</td>\n      <td>41144.000000</td>\n    </tr>\n    <tr>\n      <th>mean</th>\n      <td>18.369045</td>\n      <td>20.616396</td>\n      <td>24.504667</td>\n      <td>2362.335942</td>\n      <td>0.793506</td>\n      <td>2001.535266</td>\n    </tr>\n    <tr>\n      <th>std</th>\n      <td>7.905886</td>\n      <td>7.674535</td>\n      <td>7.730364</td>\n      <td>654.981925</td>\n      <td>13.041592</td>\n      <td>11.142414</td>\n    </tr>\n    <tr>\n      <th>min</th>\n      <td>6.000000</td>\n      <td>7.000000</td>\n      <td>9.000000</td>\n      <td>500.000000</td>\n      <td>0.000000</td>\n      <td>1984.000000</td>\n    </tr>\n    <tr>\n      <th>25%</th>\n      <td>15.000000</td>\n      <td>17.000000</td>\n      <td>20.000000</td>\n      <td>1900.000000</td>\n      <td>0.000000</td>\n      <td>1991.000000</td>\n    </tr>\n    <tr>\n      <th>50%</th>\n      <td>17.000000</td>\n      <td>20.000000</td>\n      <td>24.000000</td>\n      <td>2350.000000</td>\n      <td>0.000000</td>\n      <td>2002.000000</td>\n    </tr>\n    <tr>\n      <th>75%</th>\n      <td>20.000000</td>\n      <td>23.000000</td>\n      <td>28.000000</td>\n      <td>2700.000000</td>\n      <td>0.000000</td>\n      <td>2011.000000</td>\n    </tr>\n    <tr>\n      <th>max</th>\n      <td>150.000000</td>\n      <td>136.000000</td>\n      <td>124.000000</td>\n      <td>7400.000000</td>\n      <td>370.000000</td>\n      <td>2020.000000</td>\n    </tr>\n  </tbody>\n</table>\n</div>"
     },
     "execution_count": 58,
     "metadata": {},
     "output_type": "execute_result"
    }
   ],
   "source": [
    "autos[cols].select_dtypes(int).describe()\n"
   ],
   "metadata": {
    "collapsed": false
   }
  },
  {
   "cell_type": "code",
   "execution_count": null,
   "outputs": [],
   "source": [
    "def tweak_autos(autos):\n",
    "    cols = ['city08', 'comb08', 'highway08', 'cylinders', 'displ', 'drive', 'eng_dscr', 'fuelCost08', 'make', 'model','trany', 'range', 'createdOn','year']\n",
    "    autos = autos[cols]\n",
    "    autos['cylinders'] = autos['cylinders'].astype('Int64')\n",
    "    autos['year'] = autos['year'].astype('Int64')\n",
    "    autos['range'] = autos['range'].astype('Int64')\n",
    "    autos['createdOn'] = pd.to_datetime(autos['createdOn'])\n",
    "    return autos\n",
    "    [cols]\n",
    "    .assign(\n",
    "        cylinders=autos.cylinders.fillna(0).astype('int8'),\n",
    "        displ=autos.displ.fillna(0).astype('category'),\n",
    "        automatic=autos.trany.str.contains('Auto'),\n",
    "        speeds=autos.trany.str.extract(r'(\\d+)').astype('int8'),\n",
    "        createdOn=pd.to_datetime(autos.createdOn.replace({'EDT': '-0400', 'EST': '-0500'}, regex=True,utc=True).dt.tz_convert('America/New York'),\n",
    "        ffs=autos.eng_dscr.str.contains('FFS')\n",
    "    )\n",
    "            asstype({'hightway08': 'Int64', 'city08': 'Int16', 'comb08': 'Int16', 'fuelCost08': 'Int16', 'range': 'Int16', 'make':'category'}).drop(columns=['tray', 'eng_dscr'])\n",
    "\n",
    "            )"
   ],
   "metadata": {
    "collapsed": false,
    "pycharm": {
     "is_executing": true
    }
   }
  },
  {
   "cell_type": "code",
   "execution_count": 52,
   "outputs": [
    {
     "data": {
      "text/plain": "<Figure size 640x480 with 1 Axes>",
      "image/png": "[encoded data removed]"
     },
     "metadata": {},
     "output_type": "display_data"
    }
   ],
   "source": [
    "import matplotlib.pyplot as plt\n",
    "import pandas as pd\n",
    "import seaborn as sns\n",
    "\n",
    "dataset = pd.DataFrame({'year': [2015, 2016, 2017, 2018, 2019, 2020],\n",
    "                        'fuelCost08': [2000, 3000, 4000, 5000, 6000, 7000]})\n",
    "dataset = dataset.drop_duplicates()\n",
    "\n",
    "sns.set(style='ticks', palette='Set2', font='serif', font_scale=1.5, color_codes=True, rc=None)\n",
    "sns.barplot(x='year', y='fuelCost08', data=dataset , color='blue', linewidth=2, edgecolor='yellow', capsize=0.2, saturation=0.5)\n",
    "plt.title('Fuel Cost by Year',fontfamily='serif',fontsize=14, color='red', fontweight='bold', horizontalalignment='center', verticalalignment='center')\n",
    "plt.xlabel('Year', fontsize=12, color='red', fontweight='bold', horizontalalignment='center', verticalalignment='center')\n",
    "plt.ylabel('Fuel Cost', fontsize=12,color='red', fontweight='bold', horizontalalignment='center', verticalalignment='center')\n",
    "plt.show()"
   ],
   "metadata": {
    "collapsed": false
   }
  },
  {
   "cell_type": "code",
   "execution_count": 35,
   "outputs": [
    {
     "data": {
      "text/plain": "Text(0, 0.5, 'Fuel Cost')"
     },
     "execution_count": 35,
     "metadata": {},
     "output_type": "execute_result"
    },
    {
     "data": {
      "text/plain": "<Figure size 640x480 with 1 Axes>",
      "image/png": "[encoded data removed]"
     },
     "metadata": {},
     "output_type": "display_data"
    }
   ],
   "source": [
    "dataset = pd.DataFrame({'year': [2015, 2016, 2017, 2018, 2019, 2020],\n",
    "                        'fuelCost08': [2000, 3000, 4000, 5000, 6000, 7000]})\n",
    "dataset = dataset.drop_duplicates()\n",
    "\n",
    "\n",
    "sns.barplot(x='year', y='fuelCost08', data=dataset , color='green')\n",
    "plt.title('Fuel Cost by Year')\n",
    "plt.xlabel('Year')\n",
    "plt.ylabel('Fuel Cost')\n"
   ],
   "metadata": {
    "collapsed": false
   }
  },
  {
   "cell_type": "code",
   "execution_count": null,
   "outputs": [],
   "source": [],
   "metadata": {
    "collapsed": false
   }
  }
 ],
 "metadata": {
  "kernelspec": {
   "display_name": "Python 3",
   "language": "python",
   "name": "python3"
  },
  "language_info": {
   "codemirror_mode": {
    "name": "ipython",
    "version": 2
   },
   "file_extension": ".py",
   "mimetype": "text/x-python",
   "name": "python",
   "nbconvert_exporter": "python",
   "pygments_lexer": "ipython2",
   "version": "2.7.6"
  }
 },
 "nbformat": 4,
 "nbformat_minor": 0
}
